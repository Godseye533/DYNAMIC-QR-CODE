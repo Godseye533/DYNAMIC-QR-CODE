{
  "nbformat": 4,
  "nbformat_minor": 0,
  "metadata": {
    "colab": {
      "name": "marathon.ipynb",
      "provenance": []
    },
    "kernelspec": {
      "name": "python3",
      "display_name": "Python 3"
    }
  },
  "cells": [
    {
      "cell_type": "markdown",
      "metadata": {
        "id": "JoduHedVLvAH",
        "colab_type": "text"
      },
      "source": [
        "# INSTALLING PYQRCODE MODULE"
      ]
    },
    {
      "cell_type": "code",
      "metadata": {
        "id": "Kpm_cNfb9OTQ",
        "colab_type": "code",
        "outputId": "18bea8c3-b744-4702-b326-90ee32c97cfc",
        "colab": {
          "base_uri": "https://localhost:8080/",
          "height": 34
        }
      },
      "source": [
        "!pip install pyqrcode"
      ],
      "execution_count": 0,
      "outputs": [
        {
          "output_type": "stream",
          "text": [
            "Requirement already satisfied: pyqrcode in /usr/local/lib/python3.6/dist-packages (1.2.1)\n"
          ],
          "name": "stdout"
        }
      ]
    },
    {
      "cell_type": "markdown",
      "metadata": {
        "id": "8tlM5ZIOL6SA",
        "colab_type": "text"
      },
      "source": [
        "# IMPORTING ALL NECESSARY LIBRARIES"
      ]
    },
    {
      "cell_type": "code",
      "metadata": {
        "id": "0B_yitSsz2Tk",
        "colab_type": "code",
        "colab": {}
      },
      "source": [
        "import requests\n",
        "import json\n",
        "from openpyxl import Workbook\n",
        "from openpyxl import load_workbook\n",
        "import pyqrcode\n",
        "from PIL import Image\n",
        "import time"
      ],
      "execution_count": 0,
      "outputs": []
    },
    {
      "cell_type": "markdown",
      "metadata": {
        "id": "8GqrbwnkMN0T",
        "colab_type": "text"
      },
      "source": [
        "# CONVERTING DATA FROM DATAFRAME TO JSON FORMAT AND POST IT TO SERVER AND CREATING A DYNAMIC QR CODE FOR USER AFTER FETCHING REQUESTS FROM SERVER USING GET METHOD"
      ]
    },
    {
      "cell_type": "code",
      "metadata": {
        "id": "nQ2XxklV0Tea",
        "colab_type": "code",
        "colab": {}
      },
      "source": [
        "def jsonconversion(eventname,eventdate,name,phone,email,emername,emernumber,size,category,bib,g):\n",
        "  if g==1:\n",
        "    data={\n",
        "        \"eventName\":eventname,\n",
        "        \"eventDate\":eventdate,\n",
        "        \"participantName\":name,\n",
        "        \"phoneNumber\":phone,\n",
        "        \"mailId\":email,\n",
        "        \"emergencyContactName\":emername,\n",
        "        \"emergencyContactNumber\":emernumber,\n",
        "        \"tShirtSize\":size,\n",
        "        \"category\":category,\n",
        "        \"bibNumber\":bib,\n",
        "        \"bibCollector\":\"\",\n",
        "        \"bibCollectorIdLocation\":\"\",\n",
        "        \"bibCollectedOn\":\"\"\n",
        "        }\n",
        "\n",
        "    data=json.dumps(data)\n",
        "    print(json.dumps(data))\n",
        "    try:\n",
        "      response = requests.post(url=\"https://iemregister.commonsensetechnologies.in/v1/api/register\",\n",
        "                               headers={\"content-type\":\"application/json\",\"api\":\"547d1ee7-4843-11ea-b4b9-0a14cb376790\"},data=data)\n",
        "      print(response.text)\n",
        "    except Exception as e:\n",
        "      print(e)\n",
        "      \n",
        "  else:\n",
        "    PARAMS = {\"eventName\":eventname,\n",
        "              \"eventDate\":eventdate,\n",
        "              \"bibNumber\":bib\n",
        "              }\n",
        "    try:\n",
        "      r = requests.get(url = \"https://iemregister.commonsensetechnologies.in/v1/api/get\",\n",
        "                       headers={\"content-type\":\"application/json\",\"api\":\"547d1ee7-4843-11ea-b4b9-0a14cb376790\"},\n",
        "                       params = PARAMS)\n",
        "      # extracting data in json format\n",
        "      data = r.json()\n",
        "      idno = data[\"id\"]\n",
        "      bibno = data[\"bibNumber\"]\n",
        "      url = \"https://iemqr.commonsensetechnologies.in/qr?uid=\"+str(idno)+\"&bib=\"+str(bibno)\n",
        "      print(idno)\n",
        "      print(bibno)\n",
        "      image = pyqrcode.create(url)\n",
        "      image.png(\"/content/drive/My Drive/test_image3/\"+f\"{bibno}.png\",scale=5)\n",
        "      im = Image.open(\"/content/drive/My Drive/test_image3/\"+f\"{bibno}.png\")\n",
        "      im = im.convert(\"RGBA\")\n",
        "      w,h = im.size\n",
        "      logo = Image.open(\"/content/bunny.png\")\n",
        "      box = (w//2-25,w//2-25,w//2+25,w//2+25)\n",
        "      im.crop(box)\n",
        "      region = logo\n",
        "      region = region.resize((box[2] - box[0], box[3] - box[1]))\n",
        "      im.paste(region,box)\n",
        "      im.save(\"/content/drive/My Drive/test_image3/\"+f\"{bibno}.png\") \n",
        "    \n",
        "    except Exception as e:\n",
        "      print(e)"
      ],
      "execution_count": 0,
      "outputs": []
    },
    {
      "cell_type": "markdown",
      "metadata": {
        "id": "EZnUzty7M9y3",
        "colab_type": "text"
      },
      "source": [
        "# EXECUTION OF THE PREVIOUS STEP BY CALLING THE FUNCTION"
      ]
    },
    {
      "cell_type": "code",
      "metadata": {
        "id": "vnkZjfkU2rAr",
        "colab_type": "code",
        "outputId": "d5c52b0a-4e1e-47ce-f2b4-f2cf72a5c0af",
        "colab": {
          "base_uri": "https://localhost:8080/",
          "height": 527
        }
      },
      "source": [
        "filename= \"output (4).xlsx\"\n",
        "wb=load_workbook(filename)\n",
        "sheet=wb.worksheets[0]\n",
        "print(\"Enter 1 for posting request and 2 for getting request\")\n",
        "g = int(input(\"Enter your Choice : \"))\n",
        "for i in range(2,9):\n",
        "  time.sleep(1)\n",
        "  print(i)\n",
        "  eventname=\"IEM UEM MARATHON 2020\"\n",
        "  eventdate=\"2020-02-09\"\n",
        "  name=str(sheet.cell(row=i,column=6).value)\n",
        "  phone=str(sheet.cell(row=i,column=7).value)\n",
        "  email=str(sheet.cell(row=i,column=5).value)\n",
        "  emername=str(sheet.cell(row=i,column=10).value)\n",
        "  emernumber=str(sheet.cell(row=i,column=11).value)\n",
        "  size=str(sheet.cell(row=i,column=9).value)\n",
        "  category=str(sheet.cell(row=i,column=4).value)\n",
        "  bib=str(sheet.cell(row=i,column=2).value)\n",
        "  #bib=str(sheet.cell(row=i,column=3).value)#Typecast to string\n",
        "  print(eventname+eventdate+name+bib+phone+email+emername+emernumber+size+category)\n",
        "  jsonconversion(eventname,eventdate,name,phone,email,emername,emernumber,size,category,bib,g)#Typecast to string\n",
        "  "
      ],
      "execution_count": 0,
      "outputs": [
        {
          "output_type": "stream",
          "text": [
            "Enter 1 for posting request and 2 for getting request\n",
            "Enter your Choice : 2\n",
            "2\n",
            "IEM UEM MARATHON 20202020-02-09None10272NoneJitendra DubeyNoneNoneNonedubeyjitendra767@gmail.com\n",
            "901712b9-3841-4d36-a6ce-d08c284b1507\n",
            "10272\n",
            "3\n",
            "IEM UEM MARATHON 20202020-02-09None10273NoneShilpi KhanujaNoneNoneNonekhanuja.shilpi@gmail.com\n",
            "b39bdb62-0ce6-4a4b-b4fc-16f8f70ac523\n",
            "10273\n",
            "4\n",
            "IEM UEM MARATHON 20202020-02-09None10274NoneArchanaa AgarwwalNoneNoneNonearchanaa.agarwwal@gmail.com\n",
            "ae00babf-5e62-4a22-b74c-55257546d483\n",
            "10274\n",
            "5\n",
            "IEM UEM MARATHON 20202020-02-09None21083NoneAvik GhoseNoneNoneNoneghose_avik@hotmail.com\n",
            "cf20d683-f8a8-40be-a40d-7b1ff45b32e3\n",
            "21083\n",
            "6\n",
            "IEM UEM MARATHON 20202020-02-09None10275Nonesamarpita bhattacharyaNoneNoneNonesam.rima2607@gmail.com\n",
            "e4cda2f6-2ab9-4ced-9b68-6404d7abc001\n",
            "10275\n",
            "7\n",
            "IEM UEM MARATHON 20202020-02-09None10276NoneSoumen KarNoneNoneNonesoumen.kar0208@gmail.com\n",
            "d006a61a-2d92-46a0-840a-c96e5aa8ecea\n",
            "10276\n",
            "8\n",
            "IEM UEM MARATHON 20202020-02-09None16118NoneSunita BahetiNoneNoneNonebahetisunita1968@gmail.com\n",
            "debc6559-2ca0-42e4-b01c-94a6e1170f77\n",
            "16118\n"
          ],
          "name": "stdout"
        }
      ]
    },
    {
      "cell_type": "code",
      "metadata": {
        "id": "CvbNdOUOiaBJ",
        "colab_type": "code",
        "colab": {}
      },
      "source": [
        "1"
      ],
      "execution_count": 0,
      "outputs": []
    }
  ]
}